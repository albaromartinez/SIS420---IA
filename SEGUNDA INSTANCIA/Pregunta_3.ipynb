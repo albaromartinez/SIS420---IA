{
  "nbformat": 4,
  "nbformat_minor": 0,
  "metadata": {
    "colab": {
      "name": "Pregunta 3.ipynb",
      "provenance": []
    },
    "kernelspec": {
      "name": "python3",
      "display_name": "Python 3"
    },
    "language_info": {
      "name": "python"
    }
  },
  "cells": [
    {
      "cell_type": "code",
      "execution_count": 71,
      "metadata": {
        "id": "N3wWtkMWM1ty"
      },
      "outputs": [],
      "source": [
        "import random \n",
        "import math\n",
        "# import pandas as pd\n",
        "import random\n",
        "# import csv\n",
        "from copy import deepcopy\n",
        "import numpy as np\n",
        "# import matplotlib.pyplot as plt"
      ]
    },
    {
      "cell_type": "markdown",
      "source": [],
      "metadata": {
        "id": "nOgfyLKJhnQ5"
      }
    },
    {
      "cell_type": "code",
      "source": [
        "def crear_genes(n, m): # 5=n=y, 10=m=x\n",
        "    # Crea un individuo\n",
        "  gen = np.zeros((n, m))\n",
        "  for i in range(n):\n",
        "    pos = random.randint(0, 9)\n",
        "    gen[i, pos] = 1\n",
        "  return gen \n",
        "\n",
        "def crear_poblacion(numero_poblacion):\n",
        "    # Crea una poblacion nueva de individuos\n",
        "  \n",
        "    return [crear_genes(n, m) for i in range(numero_poblacion)]\n"
      ],
      "metadata": {
        "id": "_-R-dWdlhoH2"
      },
      "execution_count": 111,
      "outputs": []
    },
    {
      "cell_type": "code",
      "source": [
        "n, m = 5, 10\n",
        "poblacion = 10\n",
        "gen = crear_genes(5,10)\n",
        "print(gen)\n",
        "poblacion = crear_poblacion(10)\n",
        "print(poblacion[2])"
      ],
      "metadata": {
        "colab": {
          "base_uri": "https://localhost:8080/"
        },
        "id": "FiZfSYBPhuA3",
        "outputId": "7a557653-34c9-4cb3-9985-cba663da7bfc"
      },
      "execution_count": 116,
      "outputs": [
        {
          "output_type": "stream",
          "name": "stdout",
          "text": [
            "[[0. 0. 0. 0. 0. 0. 0. 0. 0. 1.]\n",
            " [0. 1. 0. 0. 0. 0. 0. 0. 0. 0.]\n",
            " [0. 0. 0. 0. 0. 1. 0. 0. 0. 0.]\n",
            " [0. 0. 1. 0. 0. 0. 0. 0. 0. 0.]\n",
            " [0. 0. 0. 0. 0. 0. 1. 0. 0. 0.]]\n",
            "[[0. 0. 0. 1. 0. 0. 0. 0. 0. 0.]\n",
            " [0. 0. 0. 0. 0. 0. 0. 0. 0. 1.]\n",
            " [0. 1. 0. 0. 0. 0. 0. 0. 0. 0.]\n",
            " [0. 0. 0. 0. 1. 0. 0. 0. 0. 0.]\n",
            " [0. 0. 0. 0. 1. 0. 0. 0. 0. 0.]]\n"
          ]
        }
      ]
    },
    {
      "cell_type": "code",
      "source": [
        "# indice = poblacion[0].index(1)\n",
        "def obtener_indice(poblacion):\n",
        "  indices = []\n",
        "  indice_total = []\n",
        "  for poblacion in poblacion:\n",
        "    for gen in poblacion:\n",
        "      for i in range(1,5):\n",
        "        indice = gen[i].index(1)\n",
        "        indices.append([i,indice])\n",
        "    indice_total.append(indices)\n",
        "    indices=[]\n",
        "\n",
        "  return indice_total"
      ],
      "metadata": {
        "id": "m10V0-_miPYv"
      },
      "execution_count": 115,
      "outputs": []
    },
    {
      "cell_type": "code",
      "source": [
        "def calcular_fitness(indices):\n",
        "  for i in range(1,10): \n",
        "    fitnes = ((x2-x1)**2 + (y2-y1)**2)**(1/2)\n",
        "  return fitnes"
      ],
      "metadata": {
        "id": "9CH95aUrhwmy"
      },
      "execution_count": null,
      "outputs": []
    },
    {
      "cell_type": "code",
      "source": [
        "\n",
        "def selecciona_padres(poblacion, n_padres): # selecciona los primeros n_padres = 100 de la poblacion\n",
        "  ordenados_por_distancia = sorted(poblacion)\n",
        "  seleccionados = ordenados_por_distancia[:n_padres]\n",
        "  return seleccionados \n",
        "\n",
        "\n",
        "def _cruza_dos_padres(padre1, padre2): \n",
        "  hijo = padre2\n",
        "  elementos = 3\n",
        "  for posicion_p1, valor_p1 in enumerate(padre1):\n",
        "    posicion_2 = random.randint(min, max) # devuelve el primer elemento encontrado\n",
        "    hijo[posicion_2] = hijo[posicion_p1]\n",
        "    hijo[posicion_p1] = valor_p1\n",
        "  return hijo\n",
        "\n",
        "\n",
        "def reproduccion(mejores_padres, nuevo_tamano_poblacion): # se crusan dos padres elegidos de los mejores padres elegidos  \n",
        "  hijos_faltantes = nuevo_tamano_poblacion - len(mejores_padres)\n",
        "  nuevos_hijos = []\n",
        "  for i in range(hijos_faltantes):\n",
        "    padre1, padre2 = random.sample(mejores_padres, 2)\n",
        "    # padre1, padre2 = mejores_padres[i], mejores_padres[i+1]\n",
        "    nuevo_hijo = _cruza_dos_padres(padre1, padre2)\n",
        "    nuevos_hijos.append(nuevo_hijo)\n",
        "  return nuevos_hijos\n",
        "\n",
        "\n",
        "def mutacion(nuevos_hijos, probavilidad_mutacion): # la mutacion consiste en cambiar una ciudad por otra\n",
        "  hijos_mutados = []\n",
        "  for hijo in nuevos_hijos:\n",
        "    productos = deepcopy(hijo.productos)\n",
        "    if probavilidad_mutacion > random.random():\n",
        "      cambiar_de = random.randint(0, len(productos)-1)\n",
        "      cambiar_a = random.randint(0, len(productos)-1)\n",
        "      while cambiar_de == cambiar_a: # para que no se eligan las mismas productos\n",
        "        cambiar_a = random.randint(0, len(productos)-1)\n",
        "      ciudad_a_cambiar  = productos[cambiar_a]\n",
        "      productos[cambiar_a] = productos[cambiar_de]\n",
        "      productos[cambiar_de] = ciudad_a_cambiar\n",
        "  # hijos_mutados.append(Ruta(productos))\n",
        "  return hijos_mutados\n"
      ],
      "metadata": {
        "id": "s8Ime8v4NATE"
      },
      "execution_count": null,
      "outputs": []
    },
    {
      "cell_type": "code",
      "source": [
        "valor_minimo_gen = 10\n",
        "valor_maximo_gen = 100\n",
        "numero_productos= 10\n",
        "numero_proveedores = 10\n",
        "\n",
        "\n",
        "poblacion = crear_proveedores(numero_productos)\n",
        "print\n",
        "mejores_padres = selecciona_padres(poblacion, 5)\n",
        "print(mejores_padres)\n",
        "reproduccion = reproduccion(mejores_padres,numero_proveedores)"
      ],
      "metadata": {
        "id": "mBhIrHMSNDpr"
      },
      "execution_count": null,
      "outputs": []
    },
    {
      "cell_type": "code",
      "source": [
        "if __name__ == \"__main__\":\n",
        "  # minimo y maximo para generar los productos aleatoriamente entre ese rango\n",
        "  valor_minimo_gen = 10\n",
        "  valor_maximo_gen = 100\n",
        "  numero_productos = 10 # numero de genes\n",
        "  numero_proveedores = 10 # numero de poblacion\n",
        "  # numero_proveedores = 70 #cantidad de los proveedores\n",
        "  n_padres_seleccionados = int(numero_proveedores/3) # seleccion padres para la mescla\n",
        "  probavilidad_mutacion = 0.6 # probavlidad para la mutacion\n",
        "  # cantidad_cruce = 0,5  # cuantos padres pueden hacer el cruce del total de la poblacion\n",
        "  numero_generaciones = 5000\n",
        "\n",
        "  #CREACION DE LAS productos Y LA POBLACION\n",
        "  pruductos_generados = crear_productos(valor_minimo_gen, valor_maximo_gen)\n",
        "\n",
        "  poblacion = crear_proveedores(numero_productos)\n",
        "  # print('poblacion seleccionada: ',poblacion[0])\n",
        "\n",
        "\n",
        "  mejor_proveedor = 0\n",
        "  contador = 0\n",
        "  for id_generacion in range(numero_generaciones):\n",
        "\n",
        "    mejor_product = sorted(poblacion)[0]\n",
        "    if contador == 1000: # Si un mismo fitnes se repite 500 veces se corta la ejecicucion\n",
        "      break\n",
        "    else: \n",
        "      if mejor_proveedor == mejor_product:\n",
        "        contador += 1\n",
        "      else:\n",
        "        contador = 0\n",
        "    mejor_proveedor = mejor_product\n",
        "\n",
        "\n",
        "    print(f'Generacion: {id_generacion+1},   Mejor: {mejor_product} ')\n",
        "    #SELECCION  LOS MEJORES PADRES\n",
        "    seleccion_padres = selecciona_padres(poblacion, n_padres_seleccionados)\n",
        "    #REPRODUCCION O CRUCE\n",
        "    hijos_cruzados  = reproduccion(seleccion_padres, numero_proveedores)\n",
        "    #MUTACION\n",
        "    hijos_mutados = mutacion(hijos_cruzados, probavilidad_mutacion)\n",
        "    #CREA NUEVA POBLACION\n",
        "    poblacion  = seleccion_padres + hijos_mutados"
      ],
      "metadata": {
        "id": "5Qdx2q4kNGsr"
      },
      "execution_count": null,
      "outputs": []
    }
  ]
}