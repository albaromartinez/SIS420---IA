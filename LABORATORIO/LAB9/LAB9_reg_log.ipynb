{
  "cells": [
    {
      "cell_type": "markdown",
      "metadata": {
        "id": "9L0KhPHmJVNa"
      },
      "source": [
        "# Ejercicion de programación - Regresión Logistica\n",
        "\n",
        "En este ejercicio se implementa regresion logistica y se aplica a dos diferentes datasets."
      ]
    },
    {
      "cell_type": "code",
      "source": [
        "# from google.colab import drive\n",
        "# drive.mount('/content/drive')"
      ],
      "metadata": {
        "id": "z5PQZyiqJhUu"
      },
      "execution_count": 1,
      "outputs": []
    },
    {
      "cell_type": "code",
      "execution_count": 2,
      "metadata": {
        "id": "Eg6cIE74JVNd"
      },
      "outputs": [],
      "source": [
        "# se utiliza para el manejo de rutas y directorios.\n",
        "import os\n",
        "\n",
        "# Calculo cientifico y vectorial para python\n",
        "import numpy as np\n",
        "\n",
        "# Librerias para graficar\n",
        "from matplotlib import pyplot\n",
        "\n",
        "# Modulo de optimización de scipy\n",
        "from scipy import optimize\n",
        "\n",
        "# le dice a matplotlib que incruste gráficos en el cuaderno\n",
        "%matplotlib inline"
      ]
    },
    {
      "cell_type": "markdown",
      "metadata": {
        "id": "t52vBnb_JVNe"
      },
      "source": [
        "## 1 Regresion Logistica\n",
        "\n",
        "En esta parte del ejercicio, creará un modelo de regresión logística para predecir si un estudiante será admitido en una universidad. Suponga que es el administrador de un departamento universitario y desea determinar las posibilidades de admisión de cada solicitante en función de sus resultados en dos exámenes. Tiene datos históricos de solicitantes anteriores que puede usar como un conjunto de capacitación para la regresión logística. Para cada ejemplo de capacitación, se tiene las calificaciones del solicitante en dos exámenes y la decisión de admisión. Su tarea es crear un modelo de clasificación que calcule la probabilidad de admisión de un solicitante en función de los puntajes de esos dos exámenes.\n",
        "\n",
        "La siguiente celda cargará los datos y las etiquetas correspondientes:"
      ]
    },
    {
      "cell_type": "code",
      "execution_count": 3,
      "metadata": {
        "colab": {
          "base_uri": "https://localhost:8080/"
        },
        "id": "WVzUelTXJVNe",
        "outputId": "ca22cc61-e675-4f68-fb74-d7211df3a6ab"
      },
      "outputs": [
        {
          "output_type": "stream",
          "name": "stdout",
          "text": [
            "edad, fidico(1-10), habilidades(1-10), velocidad(1-10), Juega o no(0,1)\n",
            "[[21. 10. 10.  5.]\n",
            " [23.  5.  5.  9.]\n",
            " [28.  7.  8.  6.]\n",
            " ...\n",
            " [25.  9.  4. 10.]\n",
            " [17.  7.  7.  5.]\n",
            " [32.  1.  2.  5.]]\n",
            "[1. 0. 1. 1. 1. 1. 1. 0. 0. 1. 1. 1. 0. 1. 0. 0. 1. 1. 1. 1. 1. 0. 1. 1.\n",
            " 1. 1. 0. 0. 0. 0. 1. 1. 0. 1. 1. 0. 0. 1. 1. 1. 1. 1. 1. 1. 0. 0. 1. 1.\n",
            " 0. 1. 0. 0. 1. 0. 1. 0. 0. 1. 1. 0. 1. 1. 1. 1. 1. 1. 1. 1. 1. 1. 1. 1.\n",
            " 1. 0. 1. 1. 1. 0. 0. 1. 0. 0. 1. 0. 1. 1. 0. 1. 1. 1. 1. 0. 1. 1. 0. 1.\n",
            " 0. 1. 1. 1. 1. 1. 1. 1. 1. 0. 1. 0. 1. 0. 1. 1. 0. 0. 0. 1. 1. 1. 1. 0.\n",
            " 0. 0. 1. 1. 1. 1. 0. 0. 0. 1. 0. 1. 0. 0. 0. 0. 0. 0. 0. 1. 1. 0. 1. 1.\n",
            " 0. 0. 0. 1. 1. 0. 1. 1. 0. 0. 0. 0. 1. 1. 0. 1. 0. 1. 1. 1. 1. 0. 1. 0.\n",
            " 1. 0. 0. 1. 1. 0. 1. 0. 0. 0. 1. 1. 1. 1. 1. 0. 0. 0. 1. 1. 0. 1. 0. 1.\n",
            " 0. 0. 1. 1. 0. 1. 0. 0. 1. 0. 1. 1. 1. 1. 1. 1. 1. 1. 1. 0. 1. 0. 1. 1.\n",
            " 0. 1. 1. 0. 1. 0. 0. 0. 0. 0. 0. 1. 1. 1. 1. 0. 1. 1. 1. 1. 1. 1. 1. 1.\n",
            " 1. 0. 1. 0. 0. 0. 1. 0. 1. 1. 1. 0. 0. 1. 1. 1. 1. 1. 0. 1. 1. 0. 0. 1.\n",
            " 0. 1. 1. 1. 1. 1. 0. 1. 0. 1. 0. 0. 1. 1. 0. 1. 1. 1. 1. 1. 1. 0. 0. 0.\n",
            " 1. 1. 1. 1. 1. 0. 1. 0. 0. 1. 1. 0.]\n"
          ]
        }
      ],
      "source": [
        "# Cargar datos\n",
        "# Las dos primeras columnas contienen la nota de dos examenes y la tercera columna\n",
        "# contiene la etiqueta que indica si el alumno ingreso o no a la universidad.\n",
        "data = np.loadtxt('/content/DS_juega-o-no.txt', delimiter=',',skiprows=1)\n",
        "X, y = data[:, 0:4], data[:, 4]\n",
        "print('edad, fidico(1-10), habilidades(1-10), velocidad(1-10), Juega o no(0,1)')\n",
        "print(X)\n",
        "print(y)\n"
      ]
    },
    {
      "cell_type": "markdown",
      "metadata": {
        "id": "5wAs5p25JVNf"
      },
      "source": [
        "### 1.1 Visualizar los datos\n",
        "\n",
        "Antes de comenzar a implementar cualquier algoritmo de aprendizaje, siempre es bueno visualizar los datos si es posible. Mostramos los datos en una gráfica bidimensional llamando a la función `plotData`. Se completará el código en `plotData` para que muestre una figura donde los ejes son los dos puntajes de los dos examenes, los ejemplos positivos y negativos se muestran con diferentes marcadores."
      ]
    },
    {
      "cell_type": "code",
      "execution_count": 4,
      "metadata": {
        "id": "PU2IfSLdJVNf"
      },
      "outputs": [],
      "source": [
        "def plotData(X, y):\n",
        "    # Gragica los puntos de datos X y y en una nueva figura. Grafica los puntos de datos con * para los positivos y \n",
        "    # o para los negativos.\n",
        "    \n",
        "    # Crea una nueva figura\n",
        "    fig = pyplot.figure()\n",
        "\n",
        "    # Find Indices of Positive and Negative Examples\n",
        "    pos = y == 1\n",
        "    neg = y == 0\n",
        "\n",
        "    # Plot Examples\n",
        "    pyplot.plot(X[pos, 0], X[pos, 1], 'k*', lw=2, ms=10)\n",
        "    pyplot.plot(X[neg, 0], X[neg, 1], 'ko', mfc='y', ms=8, mec='k', mew=1)\n",
        "    "
      ]
    },
    {
      "cell_type": "markdown",
      "metadata": {
        "id": "llREAw-3JVNg"
      },
      "source": [
        "Se llama a la función implementada para mostrar los datos cargados:"
      ]
    },
    {
      "cell_type": "code",
      "execution_count": 5,
      "metadata": {
        "colab": {
          "base_uri": "https://localhost:8080/",
          "height": 279
        },
        "id": "8ynW5qI3JVNg",
        "outputId": "cc99f6f7-2242-4cd4-c0b3-7d9738bf6ae7"
      },
      "outputs": [
        {
          "output_type": "display_data",
          "data": {
            "text/plain": [
              "<Figure size 432x288 with 1 Axes>"
            ],
            "image/png": "[encoded data removed]"
          },
          "metadata": {
            "needs_background": "light"
          }
        }
      ],
      "source": [
        "plotData(X, y)\n",
        "# adiciona etiquetas para los ejes\n",
        "pyplot.xlabel('Habilidades, edad, velocidad y fisico')\n",
        "pyplot.ylabel('Juega o no ')\n",
        "pyplot.legend(['Juega', 'No Juega'])\n",
        "pass"
      ]
    },
    {
      "cell_type": "markdown",
      "metadata": {
        "id": "Pfpf9aEFJVNg"
      },
      "source": [
        "<a id=\"section1\"></a>\n",
        "### 1.2 Implementacion\n",
        "\n",
        "#### 1.2.1 Fución Sigmoidea\n",
        "\n",
        "La hipotesis para la regresión logistica se define como:\n",
        "\n",
        "$$ h_\\theta(x) = g(\\theta^T x)$$\n",
        "\n",
        "donde la función $g$ is la función sigmoidea. La función sigmoidea se define como: \n",
        "\n",
        "$$g(z) = \\frac{1}{1+e^{-z}}$$.\n",
        "\n",
        "Los resultados que debe generar la funcion sigmoidea para valores positivos amplios de `x`, deben ser cercanos a 1, mientras que para valores negativos grandes, la sigmoide debe generar valores cercanos 0. La evaluacion de `sigmoid(0)` debe dar un resultado exacto de 0.5. Esta funcion tambien debe poder trabajar con vectores y matrices."
      ]
    },
    {
      "cell_type": "code",
      "execution_count": 6,
      "metadata": {
        "id": "pk9dV23xJVNh"
      },
      "outputs": [],
      "source": [
        "def sigmoid(z):\n",
        "    # Calcula la sigmoide de una entrada z\n",
        "    # convierte la intrada a un arreglo numpy\n",
        "    z = np.array(z)\n",
        "  \n",
        "    g = np.zeros(z.shape)\n",
        "\n",
        "    g = 1 / (1 + np.exp(-z))\n",
        "\n",
        "    return g"
      ]
    },
    {
      "cell_type": "markdown",
      "metadata": {
        "id": "uRsBEhsWJVNh"
      },
      "source": [
        "Se calcula el valor de la sigmoide aplicando la funcion sigmoid con `z=0`, se debe obtener un resultado de 0.5. RE recomienda experimentar con otros valores de `z`."
      ]
    },
    {
      "cell_type": "code",
      "execution_count": 7,
      "metadata": {
        "colab": {
          "base_uri": "https://localhost:8080/"
        },
        "id": "uIPk61NLJVNh",
        "outputId": "bc53fd7f-cde3-4b0d-8834-9af15f67ea9d"
      },
      "outputs": [
        {
          "output_type": "stream",
          "name": "stdout",
          "text": [
            "g( 21 ) =  0.9999999992417439\n"
          ]
        }
      ],
      "source": [
        "# Prueba la implementacion de la funcion sigmoid\n",
        "z = 21\n",
        "g = sigmoid(z)\n",
        "\n",
        "print('g(', z, ') = ', g)"
      ]
    },
    {
      "cell_type": "markdown",
      "metadata": {
        "id": "tDl3_8hvJVNi"
      },
      "source": [
        "<a id=\"section2\"></a>\n",
        "#### 1.2.2 Función de Costo y Gradiente\n",
        "\n",
        "Se implementa la funcion cost y gradient, para la regresión logistica. Antes de continuar es importante agregar el termino de intercepcion a X. "
      ]
    },
    {
      "cell_type": "code",
      "execution_count": 8,
      "metadata": {
        "id": "ELtMkiYDJVNi",
        "colab": {
          "base_uri": "https://localhost:8080/"
        },
        "outputId": "a4af79f6-4c1c-41eb-8de3-07bdcd51ede7"
      },
      "outputs": [
        {
          "output_type": "execute_result",
          "data": {
            "text/plain": [
              "array([ 1., 21., 10., 10.,  5.])"
            ]
          },
          "metadata": {},
          "execution_count": 8
        }
      ],
      "source": [
        "# Configurar la matriz adecuadamente, y agregar una columna de unos que corresponde al termino de intercepción. \n",
        "m, n = X.shape\n",
        "# Agraga el termino de intercepción a A\n",
        "X = np.concatenate([np.ones((m, 1)), X], axis=1)\n",
        "X[0]"
      ]
    },
    {
      "cell_type": "markdown",
      "metadata": {
        "id": "dREHB51mJVNi"
      },
      "source": [
        "La funcion de costo en una regresión logistica es:\n",
        "\n",
        "$$ J(\\theta) = \\frac{1}{m} \\sum_{i=1}^{m} \\left[ -y^{(i)} \\log\\left(h_\\theta\\left( x^{(i)} \\right) \\right) - \\left( 1 - y^{(i)}\\right) \\log \\left( 1 - h_\\theta\\left( x^{(i)} \\right) \\right) \\right]$$\n",
        "\n",
        "y el gradiente del costo es un vector de la misma longitud como $\\theta$ donde el elemento $j^{th}$ (para $j = 0, 1, \\cdots , n$) se define como:\n",
        "\n",
        "$$ \\frac{\\partial J(\\theta)}{\\partial \\theta_j} = \\frac{1}{m} \\sum_{i=1}^m \\left( h_\\theta \\left( x^{(i)} \\right) - y^{(i)} \\right) x_j^{(i)} $$\n",
        "\n",
        "Si bien este gradiente parece idéntico al gradiente de regresión lineal, la fórmula es diferente porque la regresión lineal y logística tienen diferentes definiciones de $h_\\theta(x)$.\n",
        "<a id=\"costFunction\"></a>"
      ]
    },
    {
      "cell_type": "code",
      "execution_count": 9,
      "metadata": {
        "id": "iqDZRIgjJVNi"
      },
      "outputs": [],
      "source": [
        "def calcularCosto(theta, X, y):\n",
        "    # Inicializar algunos valores utiles\n",
        "    m = y.size  # numero de ejemplos de entrenamiento\n",
        "\n",
        "    J = 0\n",
        "    h = sigmoid(X.dot(theta.T))\n",
        "    J = (1 / m) * np.sum(-y.dot(np.log(h)) - (1 - y).dot(np.log(1 - h)))\n",
        "    \n",
        "    return J"
      ]
    },
    {
      "cell_type": "code",
      "execution_count": 10,
      "metadata": {
        "id": "7G4SjTrwJVNi"
      },
      "outputs": [],
      "source": [
        "def descensoGradiente(theta, X, y, alpha, num_iters):\n",
        "    # Inicializa algunos valores\n",
        "    m = y.shape[0] # numero de ejemplos de entrenamiento\n",
        "    \n",
        "    # realiza una copia de theta, el cual será acutalizada por el descenso por el gradiente\n",
        "    theta = theta.copy()\n",
        "    J_history = []\n",
        "    \n",
        "    for i in range(num_iters):\n",
        "        h = sigmoid(X.dot(theta.T))\n",
        "        theta = theta - (alpha / m) * (h - y).dot(X)\n",
        "       \n",
        "        J_history.append(calcularCosto(theta, X, y))\n",
        "    return theta, J_history"
      ]
    },
    {
      "cell_type": "code",
      "execution_count": 24,
      "metadata": {
        "scrolled": true,
        "colab": {
          "base_uri": "https://localhost:8080/",
          "height": 314
        },
        "id": "rBUlehg6JVNi",
        "outputId": "53918620-b61a-46da-d3ba-0e3c26e7fa95"
      },
      "outputs": [
        {
          "output_type": "stream",
          "name": "stdout",
          "text": [
            "theta calculado por el descenso por el gradiente: [ 0.00358893 -0.0411326   0.10529663  0.08082749  0.05890069]\n",
            "El Jugador puede puede jugar o no:  0\n"
          ]
        },
        {
          "output_type": "display_data",
          "data": {
            "text/plain": [
              "<Figure size 432x288 with 1 Axes>"
            ],
            "image/png": "[encoded data removed]"
          },
          "metadata": {
            "needs_background": "light"
          }
        }
      ],
      "source": [
        "# Elegir algun valor para alpha (probar varias alternativas)\n",
        "alpha = 0.001\n",
        "num_iters = 100\n",
        "\n",
        "# inicializa theta y ejecuta el descenso por el gradiente\n",
        "theta = np.zeros(5)\n",
        "theta, J_history = descensoGradiente(theta, X, y, alpha, num_iters)\n",
        "\n",
        "# Grafica la convergencia del costo\n",
        "pyplot.plot(np.arange(len(J_history)), J_history, lw=2)\n",
        "pyplot.xlabel('Numero de iteraciones')\n",
        "pyplot.ylabel('Costo J')\n",
        "\n",
        "# Muestra los resultados del descenso por el gradiente\n",
        "print('theta calculado por el descenso por el gradiente: {:s}'.format(str(theta)))\n",
        "\n",
        "# verificar si juega o no (edad, fidico(1-10), habilidades(1-10), velocidad(1-10), Juega o no(0,1))\n",
        "X_array = [ 1, 21, 5, 5, 5]\n",
        "juega = sigmoid(np.dot(X_array, theta))   # Se debe cambiar esto\n",
        "\n",
        "print('El Jugador puede puede jugar o no: ',int(juega))"
      ]
    },
    {
      "cell_type": "code",
      "execution_count": 14,
      "metadata": {
        "id": "C2Qew-sRJVNj"
      },
      "outputs": [],
      "source": [
        "def costFunction(theta, X, y):\n",
        "    # Inicializar algunos valores utiles\n",
        "    m = y.size  # numero de ejemplos de entrenamiento\n",
        "\n",
        "    J = 0\n",
        "    grad = np.zeros(theta.shape)\n",
        "\n",
        "    h = sigmoid(X.dot(theta.T))\n",
        "    \n",
        "    J = (1 / m) * np.sum(-y.dot(np.log(h)) - (1 - y).dot(np.log(1 - h)))\n",
        "    grad = (1 / m) * (h - y).dot(X)\n",
        "    \n",
        "    return J, grad"
      ]
    },
    {
      "cell_type": "markdown",
      "metadata": {
        "id": "1ioLXhR5JVNj"
      },
      "source": [
        "Se prueba la funcion `costFunction` utilizando dos casos de prueba para $\\theta$."
      ]
    },
    {
      "cell_type": "code",
      "execution_count": null,
      "metadata": {
        "colab": {
          "base_uri": "https://localhost:8080/"
        },
        "id": "j7Fe_xEZJVNj",
        "outputId": "3d0cc9de-2673-4250-ef1c-80d2b386dd6c"
      },
      "outputs": [
        {
          "output_type": "stream",
          "name": "stdout",
          "text": [
            "[0. 0. 0.]\n",
            "Costo en theta inicial (zeros): 0.693\n",
            "Costo esperado (aproximado): 0.693\n",
            "\n",
            "[ -0.1        -12.00921659 -11.26284221]\n",
            "Gradiente en theta inicial (zeros):\n",
            "\t[-0.1000, -12.0092, -11.2628]\n",
            "Gradiente esperado (aproximado):\n",
            "\t[-0.1000, -12.0092, -11.2628]\n",
            "\n"
          ]
        }
      ],
      "source": [
        "# Inicializacion de parametros de ajuste\n",
        "initial_theta = np.zeros(n+1)\n",
        "print(initial_theta)\n",
        "cost, grad = costFunction(initial_theta, X, y)\n",
        "\n",
        "print('Costo en theta inicial (zeros): {:.3f}'.format(cost))\n",
        "print('Costo esperado (aproximado): 0.693\\n')\n",
        "print(grad)\n",
        "print('Gradiente en theta inicial (zeros):')\n",
        "print('\\t[{:.4f}, {:.4f}, {:.4f}]'.format(*grad))\n",
        "print('Gradiente esperado (aproximado):\\n\\t[-0.1000, -12.0092, -11.2628]\\n')\n",
        "\n"
      ]
    },
    {
      "cell_type": "code",
      "execution_count": null,
      "metadata": {
        "colab": {
          "base_uri": "https://localhost:8080/"
        },
        "id": "4Um8ITq2JVNj",
        "outputId": "b5732e54-3e80-416b-c8cd-be04cd7f2b5c"
      },
      "outputs": [
        {
          "output_type": "stream",
          "name": "stdout",
          "text": [
            "[-24.    0.2   0.2]\n",
            "Costo en theta prueba: 0.218\n",
            "Costo esperado (aproximado): 0.218\n",
            "\n",
            "Gradiente en theta prueba:\n",
            "\t[0.043, 2.566, 2.647]\n",
            "Gradiente esperado (aproximado):\n",
            "\t[0.043, 2.566, 2.647]\n"
          ]
        }
      ],
      "source": [
        "# Calcula y muestra el costo y el gradiente con valores de theta diferentes a cero\n",
        "\n",
        "test_theta = np.array([-24, 0.2, 0.2])\n",
        "#test_theta = np.array([-11.74749157, 0.09927308, 0.09316497])\n",
        "print(test_theta)\n",
        "cost, grad = costFunction(test_theta, X, y)\n",
        "\n",
        "print('Costo en theta prueba: {:.3f}'.format(cost))\n",
        "print('Costo esperado (aproximado): 0.218\\n')\n",
        "\n",
        "print('Gradiente en theta prueba:')\n",
        "print('\\t[{:.3f}, {:.3f}, {:.3f}]'.format(*grad))\n",
        "print('Gradiente esperado (aproximado):\\n\\t[0.043, 2.566, 2.647]')"
      ]
    },
    {
      "cell_type": "markdown",
      "metadata": {
        "id": "7AeXffwpJVNj"
      },
      "source": [
        "#### 1.2.3 Parámetros de aprendizaje usando `scipy.optimize`\n",
        "\n",
        "En el codigo anterior se encontró los parámetros óptimos de un modelo de regresión lineal al implementar el descenso de gradiente. Se implemento una función de costo y se calculó su gradiente, utilizando el algoritmo del descenso por el gradiente.\n",
        "\n",
        "En lugar de realizar los pasos del descenso por el gradiente, se utilizará el [módulo `scipy.optimize`] (https://docs.scipy.org/doc/scipy/reference/optimize.html). SciPy es una biblioteca de computación numérica para `python`. Proporciona un módulo de optimización para la búsqueda y minimización de raíces. A partir de `scipy 1.0`, la función` scipy.optimize.minimize` es el método a utilizar para problemas de optimización (tanto restringidos como no restringidos).\n",
        "\n",
        "For logistic regression, you want to optimize the cost function $J(\\theta)$ with parameters $\\theta$.\n",
        "Concretely, you are going to use `optimize.minimize` to find the best parameters $\\theta$ for the logistic regression cost function, given a fixed dataset (of X and y values). You will pass to `optimize.minimize` the following inputs:\n",
        "\n",
        "Para la regresión logística, se desea optimizar la función de costo $J(\\theta)$ con los parámetros $\\theta$.\n",
        "Concretamente, se va a utilizar `optimize.minimize` para encontrar los mejores parámetros $\\theta$ para la función de costo de regresión logística, dado un dataset fijo (de valores X e y). Se pasara a `optimize.minimize` las siguientes entradas:\n",
        "\n",
        "- `costFunction`: Una función de costo que, cuando se le da el dataset de entrenamiento y un $\\theta$ particular, calcula el costo de regresión logística y el gradiente con respecto a $\\theta$ para el dataset(X, y). Es importante tener en cuenta que solo se pasa el nombre de la función sin el paréntesis. Esto indica que solo proporcionamos una referencia a esta función y no evaluamos el resultado de esta función.\n",
        "- `initial_theta`: Los valores iniciales de los parametros que se tratan de optimizar.\n",
        "- `(X, y)`: Estos son argumentos adicionales a la funcion de costo.\n",
        "- `jac`: Indicación si la función de costo devuelve el jacobiano (gradiente) junto con el valor de costo. (True)\n",
        "- `method`: Método / algoritmo de optimización a utilizar\n",
        "- `options`: Opciones adicionales que pueden ser específicas del método de optimización específico. Solo se indica al algoritmo el número máximo de iteraciones antes de que termine.\n",
        "\n",
        "Si se ha completado la `costFunction` correctamente,`optimize.minimize` convergerá en los parámetros de optimización correctos y devolverá los valores finales del costo y $\\theta$ en un objeto de clase.\n",
        "\n",
        "Al usar `optimize.minimize`, no se tuvo que escribir ningún bucle ni establecer una tasa de aprendizaje como se hizo para el descenso de gradientes. Todo esto se hace mediante `optimize.minimize`: solo se necesita proporcionar una función que calcule el costo y el gradiente.\n",
        "\n",
        "A continuación, se tiene el código para llamar a `optimize.minimize` con los argumentos correctos."
      ]
    },
    {
      "cell_type": "code",
      "execution_count": null,
      "metadata": {
        "scrolled": true,
        "colab": {
          "base_uri": "https://localhost:8080/"
        },
        "id": "sB2xAu03JVNj",
        "outputId": "660e3a3b-95a2-4ba7-d1c8-650ce256c0f7"
      },
      "outputs": [
        {
          "output_type": "stream",
          "name": "stdout",
          "text": [
            "Costo con un valor de theta encontrado por optimize.minimize: 0.203\n",
            "Costo esperado (aproximado): 0.203\n",
            "\n",
            "theta:\n",
            "\t[-25.161, 0.206, 0.201]\n",
            "Theta esperado (aproximado):\n",
            "\t[-25.161, 0.206, 0.201]\n"
          ]
        }
      ],
      "source": [
        "# Establecer las opciones para optimize.minimize\n",
        "options= {'maxiter': 1000}\n",
        "\n",
        "# revisar la documentacion de scipy's optimize.minimize para mayor descripcion de los parametros\n",
        "# La funcion devuekve un objeto `OptimizeResult`\n",
        "# Se utiliza el algoritmo de Newton truncado para la optimización.\n",
        "res = optimize.minimize(costFunction,\n",
        "                        initial_theta,\n",
        "                        (X, y),\n",
        "                        jac=True,\n",
        "                        method='TNC',\n",
        "                        options=options)\n",
        "\n",
        "# la propiedad fun del objeto devuelto por `OptimizeResult`\n",
        "# contiene el valor del costFunction de un theta optimizado\n",
        "cost = res.fun\n",
        "\n",
        "# Theta optimizada esta en la propiedad x\n",
        "theta = res.x\n",
        "\n",
        "# Imprimir theta en la pantalla\n",
        "print('Costo con un valor de theta encontrado por optimize.minimize: {:.3f}'.format(cost))\n",
        "print('Costo esperado (aproximado): 0.203\\n');\n",
        "\n",
        "print('theta:')\n",
        "print('\\t[{:.3f}, {:.3f}, {:.3f}]'.format(*theta))\n",
        "print('Theta esperado (aproximado):\\n\\t[-25.161, 0.206, 0.201]')"
      ]
    },
    {
      "cell_type": "markdown",
      "metadata": {
        "id": "1DlPL874JVNk"
      },
      "source": [
        "Una vez que se completa `optimize.minimize`, se usa el valor final de $\\theta$ para visualizar el límite de decisión en los datos de entrenamiento.\n",
        "\n",
        "Para hacerlo, se implementa la función `plotDecisionBoundary` para trazar el límite de decisión sobre los datos de entrenamiento."
      ]
    },
    {
      "cell_type": "code",
      "execution_count": null,
      "metadata": {
        "id": "_mDWAzqxJVNk"
      },
      "outputs": [],
      "source": [
        "def plotDecisionBoundary(plotData, theta, X, y):\n",
        "    \"\"\"\n",
        "    Grafica los puntos X y Y en una nueva figura con un limite de desicion definido por theta.\n",
        "    the data points X and y into a new figure with the decision boundary defined by theta.\n",
        "    Grafica los puntos con * para los ejemplos positivos y con o para los ejemplos negativos.\n",
        "    \n",
        "    Parametros:\n",
        "    ----------\n",
        "    plotData : func\n",
        "        A function reference for plotting the X, y data.\n",
        "\n",
        "    theta : array_like\n",
        "        Parametros para la regresion logistica. Un vecto de la forma (n+1, ).\n",
        "\n",
        "    X : array_like\n",
        "        Data set de entrada. Se supone que X es una de las siguientes:\n",
        "            1) Matriz Mx3, donde la primera columna es una columna de unos para intercepción.\n",
        "            2) Matriz MxN, N> 3, donde la primera columna son todos unos.\n",
        "\n",
        "    y : array_like\n",
        "        Vector de datos de etiquetas de la forma (m, ).\n",
        "    \"\"\"\n",
        "    # hacer que theta sera un arreglo numpy\n",
        "    theta = np.array(theta)\n",
        "\n",
        "    # Graficar los datos (recordar que la primera columna en X es la intercepción)\n",
        "    plotData(X[:, 1:3], y)\n",
        "\n",
        "    if X.shape[1] <= 3:\n",
        "        # Solo se requieren 2 puntos para definir una linea, para lo cual se eligen dos puntos finales\n",
        "        plot_x = np.array([np.min(X[:, 1]) - 2, np.max(X[:, 1]) + 2])\n",
        "\n",
        "        # Calcular la línea límite de decisión\n",
        "        plot_y = (-1. / theta[2]) * (theta[1] * plot_x + theta[0])\n",
        "\n",
        "        print(plot_x)\n",
        "        print(plot_y)\n",
        "        # Graficar y ajustar los ejes para una mejor visualización\n",
        "        pyplot.plot(plot_x, plot_y)\n",
        "\n",
        "        # Leyenda, especifica para el ejercicio\n",
        "        pyplot.legend(['Admitido', 'No admitido', 'Limite de decisión'])\n",
        "        pyplot.xlim([30, 100])\n",
        "        pyplot.ylim([30, 100])\n",
        "    else:\n",
        "        # Rango de la grilla\n",
        "        u = np.linspace(-1, 1.5, 50)\n",
        "        v = np.linspace(-1, 1.5, 50)\n",
        "\n",
        "        z = np.zeros((u.size, v.size))\n",
        "        # Evalua z = theta*x sobre la grilla\n",
        "        for i, ui in enumerate(u):\n",
        "            for j, vj in enumerate(v):\n",
        "                z[i, j] = np.dot(mapFeature(ui, vj), theta)\n",
        "\n",
        "        z = z.T  # importante transponer z antes de llamar al contorno\n",
        "        # print(z)\n",
        "\n",
        "        # Plot z = 0\n",
        "        pyplot.contour(u, v, z, levels=[0], linewidths=2, colors='g')\n",
        "        pyplot.contourf(u, v, z, levels=[np.min(z), 0, np.max(z)], cmap='Greens', alpha=0.4)\n"
      ]
    },
    {
      "cell_type": "code",
      "execution_count": null,
      "metadata": {
        "colab": {
          "base_uri": "https://localhost:8080/",
          "height": 305
        },
        "id": "Q6oQNi0CJVNk",
        "outputId": "8eb89e7f-450e-4f5a-d818-de72cdaf5cb5"
      },
      "outputs": [
        {
          "output_type": "stream",
          "name": "stdout",
          "text": [
            "[ 28.05882245 101.8278578 ]\n",
            "[96.16598102 20.65402806]\n"
          ]
        },
        {
          "output_type": "display_data",
          "data": {
            "text/plain": [
              "<Figure size 432x288 with 1 Axes>"
            ],
            "image/png": "[encoded data removed]"
          },
          "metadata": {
            "needs_background": "light"
          }
        }
      ],
      "source": [
        "# Graficar limites\n",
        "plotDecisionBoundary(plotData, theta, X, y)"
      ]
    },
    {
      "cell_type": "markdown",
      "metadata": {
        "id": "nj6vynAtJVNk"
      },
      "source": [
        "<a id=\"section4\"></a>\n",
        "#### 1.2.4 Evaluación de la regresión logistica\n",
        "\n",
        "Después de aprender los parámetros, se puede usar el modelo para predecir si un estudiante en particular será admitido. Para un estudiante con una puntuación en el Examen 1 de 45 y una puntuación en el Examen 2 de 85, debe esperar ver una probabilidad de admisión de 0,776. Otra forma de evaluar la calidad de los parámetros que hemos encontrado es ver qué tan bien predice el modelo aprendido en nuestro conjunto de entrenamiento. "
      ]
    },
    {
      "cell_type": "code",
      "execution_count": null,
      "metadata": {
        "id": "0xz73RAdJVNk"
      },
      "outputs": [],
      "source": [
        "def predict(theta, X):\n",
        "    \"\"\"\n",
        "    Predecir si la etiqueta es 0 o 1 mediante regresión logística aprendida.\n",
        "    Calcula las predicciones para X usando un umbral en 0.5 (es decir, si sigmoide (theta.T * x)> = 0.5, predice 1)\n",
        "\n",
        "    Parametros\n",
        "    ----------\n",
        "    theta : array_like\n",
        "        Parametros para regresion logistica. Un vecto de la forma (n+1, ).\n",
        "    \n",
        "    X : array_like\n",
        "        Datos utilizados para el calculo de las predicciones. \n",
        "        La fila es el numero de los puntos para calcular las predicciones, \n",
        "        y las columnas con el numero de caracteristicas.\n",
        "\n",
        "    Devuelve\n",
        "    -------\n",
        "    p : array_like\n",
        "        Predicciones y 0 o 1 para cada fila en X. \n",
        "    \"\"\"\n",
        "    m = X.shape[0] # Numero de ejemplo de entrenamiento\n",
        "\n",
        "    p = np.zeros(m)\n",
        "\n",
        "    p = np.round(sigmoid(X.dot(theta.T)))\n",
        "    return p"
      ]
    },
    {
      "cell_type": "markdown",
      "metadata": {
        "id": "w5PnbHiWJVNk"
      },
      "source": [
        "Una vez entrenado el modelo se procede a realizar la prediccion y evaluación de los resultados de predecir cual es el valor que vota el modelo para todos los datos utilizados en el entrenamiento."
      ]
    },
    {
      "cell_type": "code",
      "execution_count": null,
      "metadata": {
        "colab": {
          "base_uri": "https://localhost:8080/"
        },
        "id": "VcAxVqIWJVNk",
        "outputId": "2cabf34a-0feb-4fef-ee04-8ea24c84636a"
      },
      "outputs": [
        {
          "output_type": "stream",
          "name": "stdout",
          "text": [
            "Para un estudiante con notas de 45 y 85, se predice una probabilidad de admisión de: 0.776%\n",
            "Valor esperado: 0.775 +/- 0.002\n",
            "\n",
            "Precisión de entrenamiento: 89.00 %\n",
            "Precisión esperada (aproximadamente): 89.00 %\n"
          ]
        }
      ],
      "source": [
        "#  Predice la probabilidad de ingreso para un estudiante con nota de 45 en el examen 1 y nota de 85 en el examen 2\n",
        "prob = sigmoid(np.dot([1, 45, 85], theta))\n",
        "print('Para un estudiante con notas de 45 y 85, se predice una probabilidad de admisión de: {:.3f}%'.format(prob))\n",
        "print('Valor esperado: 0.775 +/- 0.002\\n')\n",
        "\n",
        "# Compute accuracy on our training set\n",
        "p = predict(theta, X)\n",
        "print('Precisión de entrenamiento: {:.2f} %'.format(np.mean(p == y) * 100))\n",
        "print('Precisión esperada (aproximadamente): 89.00 %')"
      ]
    },
    {
      "cell_type": "code",
      "source": [
        "import random\n",
        "print('edad, fidico(1-10), habilidades(1-10), velocidad(1-10), Juega o no')\n",
        "for i in range(300):\n",
        "  edad = random.randint(12, 40)\n",
        "  if edad < 15 or edad > 30:\n",
        "    fisico = random.randint(1, 5)\n",
        "    abilidad = random.randint(2, 7)\n",
        "    velocidad = random.randint(3, 7)\n",
        "  else:\n",
        "    fisico = random.randint(5,10)\n",
        "    abilidad = random.randint(4, 10)\n",
        "    velocidad = random.randint(5,10)\n",
        "  if (fisico+abilidad)/2 > 5:\n",
        "    juega = 1\n",
        "  else: juega = 0\n",
        "  \n",
        "  print(f'{edad},{fisico},{abilidad},{velocidad},{juega}')\n"
      ],
      "metadata": {
        "colab": {
          "base_uri": "https://localhost:8080/"
        },
        "id": "j1iaPfIvWRLK",
        "outputId": "b965ec12-f39b-4426-aa28-4ac454ab324f"
      },
      "execution_count": 15,
      "outputs": [
        {
          "output_type": "stream",
          "name": "stdout",
          "text": [
            "edad, fidico(1-10), habilidades(1-10), velocidad(1-10), Juega o no\n",
            "21,10,10,5,1\n",
            "23,5,5,9,0\n",
            "28,7,8,6,1\n",
            "28,5,7,6,1\n",
            "16,6,7,8,1\n",
            "20,8,8,9,1\n",
            "20,8,9,10,1\n",
            "38,5,5,6,0\n",
            "39,5,5,6,0\n",
            "30,7,9,6,1\n",
            "17,8,4,6,1\n",
            "16,8,4,9,1\n",
            "32,5,4,6,0\n",
            "29,5,6,8,1\n",
            "38,5,4,5,0\n",
            "32,5,5,3,0\n",
            "18,7,5,10,1\n",
            "27,8,5,6,1\n",
            "24,8,6,10,1\n",
            "13,5,6,6,1\n",
            "17,7,5,6,1\n",
            "17,5,4,6,0\n",
            "16,6,8,7,1\n",
            "29,9,8,5,1\n",
            "28,10,5,6,1\n",
            "19,8,4,9,1\n",
            "38,3,6,5,0\n",
            "35,5,3,4,0\n",
            "31,3,2,6,0\n",
            "34,3,2,4,0\n",
            "23,7,5,6,1\n",
            "27,5,10,8,1\n",
            "39,2,5,5,0\n",
            "28,5,10,9,1\n",
            "14,5,7,5,1\n",
            "31,2,3,7,0\n",
            "34,4,3,6,0\n",
            "21,9,4,6,1\n",
            "21,7,7,10,1\n",
            "21,6,8,10,1\n",
            "15,8,7,10,1\n",
            "30,9,10,7,1\n",
            "16,6,5,9,1\n",
            "23,9,5,10,1\n",
            "21,5,4,7,0\n",
            "40,2,7,3,0\n",
            "28,10,7,10,1\n",
            "19,7,5,5,1\n",
            "40,5,2,4,0\n",
            "28,6,10,5,1\n",
            "13,2,3,4,0\n",
            "35,1,7,3,0\n",
            "31,5,7,3,1\n",
            "17,5,5,5,0\n",
            "23,8,9,6,1\n",
            "37,2,7,4,0\n",
            "40,1,3,6,0\n",
            "23,5,7,7,1\n",
            "18,6,10,8,1\n",
            "35,4,5,5,0\n",
            "22,10,7,6,1\n",
            "29,9,8,9,1\n",
            "28,10,8,6,1\n",
            "27,9,7,8,1\n",
            "20,6,8,7,1\n",
            "27,8,10,7,1\n",
            "16,6,8,5,1\n",
            "19,7,7,5,1\n",
            "30,6,7,5,1\n",
            "16,5,9,9,1\n",
            "18,8,5,5,1\n",
            "29,9,4,5,1\n",
            "16,8,4,10,1\n",
            "14,1,5,5,0\n",
            "30,6,9,6,1\n",
            "25,5,6,9,1\n",
            "23,6,8,5,1\n",
            "36,4,3,6,0\n",
            "31,1,6,7,0\n",
            "27,6,9,8,1\n",
            "39,4,3,5,0\n",
            "13,5,4,3,0\n",
            "27,10,4,8,1\n",
            "13,3,6,7,0\n",
            "23,10,8,10,1\n",
            "28,8,8,6,1\n",
            "34,5,5,5,0\n",
            "17,9,8,7,1\n",
            "30,9,9,9,1\n",
            "26,5,9,6,1\n",
            "28,9,8,8,1\n",
            "13,3,7,4,0\n",
            "29,5,10,10,1\n",
            "32,5,7,4,1\n",
            "39,2,7,7,0\n",
            "19,7,6,8,1\n",
            "38,5,5,7,0\n",
            "26,7,4,7,1\n",
            "23,8,5,9,1\n",
            "40,4,7,4,1\n",
            "39,4,7,5,1\n",
            "18,7,7,9,1\n",
            "36,4,7,5,1\n",
            "25,7,5,5,1\n",
            "33,5,6,7,1\n",
            "31,3,4,3,0\n",
            "24,8,7,7,1\n",
            "33,1,6,4,0\n",
            "16,8,7,10,1\n",
            "38,3,4,5,0\n",
            "30,9,8,8,1\n",
            "19,6,6,10,1\n",
            "34,1,4,6,0\n",
            "31,4,4,4,0\n",
            "12,2,7,7,0\n",
            "30,9,8,5,1\n",
            "27,9,10,5,1\n",
            "28,8,9,9,1\n",
            "17,8,8,7,1\n",
            "39,1,2,4,0\n",
            "32,3,5,6,0\n",
            "31,3,7,4,0\n",
            "23,6,10,6,1\n",
            "21,9,5,8,1\n",
            "18,8,9,5,1\n",
            "30,10,8,8,1\n",
            "12,5,2,6,0\n",
            "31,1,2,4,0\n",
            "34,3,2,7,0\n",
            "26,6,6,6,1\n",
            "37,2,3,7,0\n",
            "15,10,7,5,1\n",
            "39,3,3,3,0\n",
            "33,2,7,5,0\n",
            "14,2,3,4,0\n",
            "40,1,3,4,0\n",
            "22,5,5,5,0\n",
            "36,3,6,7,0\n",
            "31,5,4,6,0\n",
            "22,9,8,8,1\n",
            "16,5,7,8,1\n",
            "37,4,2,6,0\n",
            "24,9,10,9,1\n",
            "24,9,6,5,1\n",
            "33,2,3,4,0\n",
            "21,6,4,9,0\n",
            "34,3,2,6,0\n",
            "29,5,7,8,1\n",
            "25,6,6,6,1\n",
            "33,2,4,7,0\n",
            "15,7,6,8,1\n",
            "20,5,6,9,1\n",
            "37,4,3,7,0\n",
            "39,1,3,6,0\n",
            "38,3,6,6,0\n",
            "36,1,7,5,0\n",
            "23,7,6,6,1\n",
            "26,6,6,10,1\n",
            "34,1,7,4,0\n",
            "17,5,8,5,1\n",
            "32,4,5,3,0\n",
            "17,9,9,7,1\n",
            "13,5,7,7,1\n",
            "22,10,4,8,1\n",
            "27,6,7,10,1\n",
            "32,5,2,5,0\n",
            "18,7,5,10,1\n",
            "35,3,3,5,0\n",
            "27,9,9,9,1\n",
            "31,1,2,7,0\n",
            "39,5,3,6,0\n",
            "27,8,6,7,1\n",
            "28,9,10,10,1\n",
            "38,1,7,6,0\n",
            "22,7,10,9,1\n",
            "12,3,7,7,0\n",
            "35,1,7,7,0\n",
            "33,5,2,3,0\n",
            "29,8,6,10,1\n",
            "30,8,5,5,1\n",
            "22,9,7,8,1\n",
            "23,10,5,7,1\n",
            "19,7,6,8,1\n",
            "36,2,3,5,0\n",
            "31,5,4,6,0\n",
            "40,1,2,7,0\n",
            "27,10,5,5,1\n",
            "19,6,8,8,1\n",
            "13,1,4,4,0\n",
            "18,8,5,5,1\n",
            "35,2,3,5,0\n",
            "18,6,7,10,1\n",
            "40,1,3,7,0\n",
            "38,2,6,7,0\n",
            "16,7,5,5,1\n",
            "34,4,7,3,1\n",
            "37,2,3,7,0\n",
            "26,10,8,8,1\n",
            "37,2,6,7,0\n",
            "36,3,6,3,0\n",
            "20,8,8,6,1\n",
            "38,5,5,4,0\n",
            "27,10,4,5,1\n",
            "29,8,9,6,1\n",
            "25,7,7,5,1\n",
            "27,10,8,7,1\n",
            "24,5,8,7,1\n",
            "20,9,7,5,1\n",
            "30,7,8,9,1\n",
            "20,8,10,9,1\n",
            "15,8,7,6,1\n",
            "38,4,2,4,0\n",
            "23,5,6,8,1\n",
            "14,4,3,7,0\n",
            "17,5,6,7,1\n",
            "23,8,8,9,1\n",
            "14,2,5,5,0\n",
            "15,8,9,6,1\n",
            "23,7,5,7,1\n",
            "36,4,2,6,0\n",
            "23,10,7,8,1\n",
            "35,5,4,4,0\n",
            "16,5,5,9,0\n",
            "34,2,2,6,0\n",
            "38,5,3,7,0\n",
            "35,1,6,4,0\n",
            "36,5,3,7,0\n",
            "19,7,10,7,1\n",
            "16,9,4,9,1\n",
            "28,10,7,6,1\n",
            "15,5,10,7,1\n",
            "29,5,4,6,0\n",
            "16,9,9,9,1\n",
            "24,8,7,10,1\n",
            "29,9,10,5,1\n",
            "15,7,9,5,1\n",
            "24,6,10,7,1\n",
            "30,7,10,8,1\n",
            "20,9,8,9,1\n",
            "16,10,5,8,1\n",
            "17,7,8,6,1\n",
            "38,2,5,4,0\n",
            "22,9,9,10,1\n",
            "34,3,4,4,0\n",
            "38,4,6,5,0\n",
            "33,1,5,6,0\n",
            "21,5,7,9,1\n",
            "32,4,5,6,0\n",
            "30,8,6,5,1\n",
            "28,9,10,5,1\n",
            "26,8,8,9,1\n",
            "31,2,2,6,0\n",
            "14,5,4,3,0\n",
            "28,10,4,8,1\n",
            "28,10,8,10,1\n",
            "28,9,7,7,1\n",
            "19,10,4,5,1\n",
            "24,7,10,6,1\n",
            "39,5,4,5,0\n",
            "20,5,8,7,1\n",
            "29,10,8,7,1\n",
            "14,5,5,6,0\n",
            "14,2,4,4,0\n",
            "30,8,10,5,1\n",
            "40,3,2,7,0\n",
            "15,9,10,10,1\n",
            "30,8,6,5,1\n",
            "17,7,6,9,1\n",
            "23,5,6,7,1\n",
            "27,6,5,8,1\n",
            "13,4,3,6,0\n",
            "18,5,7,8,1\n",
            "32,2,3,3,0\n",
            "15,10,10,10,1\n",
            "12,1,4,6,0\n",
            "31,3,2,4,0\n",
            "22,10,10,8,1\n",
            "15,5,8,6,1\n",
            "34,3,2,4,0\n",
            "22,10,8,6,1\n",
            "18,9,10,8,1\n",
            "30,8,6,5,1\n",
            "33,4,7,7,1\n",
            "27,5,6,7,1\n",
            "25,9,8,8,1\n",
            "36,4,6,3,0\n",
            "34,4,2,5,0\n",
            "32,2,7,3,0\n",
            "29,5,8,9,1\n",
            "17,10,5,5,1\n",
            "19,7,5,5,1\n",
            "18,6,5,10,1\n",
            "21,7,9,9,1\n",
            "38,2,4,7,0\n",
            "26,10,5,9,1\n",
            "37,3,4,5,0\n",
            "20,6,4,7,0\n",
            "25,9,4,10,1\n",
            "17,7,7,5,1\n",
            "32,1,2,5,0\n"
          ]
        }
      ]
    },
    {
      "cell_type": "markdown",
      "source": [
        ""
      ],
      "metadata": {
        "id": "HEgL--J-WQ2Q"
      }
    }
  ],
  "metadata": {
    "kernelspec": {
      "display_name": "Python 3",
      "language": "python",
      "name": "python3"
    },
    "language_info": {
      "codemirror_mode": {
        "name": "ipython",
        "version": 3
      },
      "file_extension": ".py",
      "mimetype": "text/x-python",
      "name": "python",
      "nbconvert_exporter": "python",
      "pygments_lexer": "ipython3",
      "version": "3.8.5"
    },
    "colab": {
      "name": "LAB9_reg_log.ipynb",
      "provenance": [],
      "collapsed_sections": []
    }
  },
  "nbformat": 4,
  "nbformat_minor": 0
}