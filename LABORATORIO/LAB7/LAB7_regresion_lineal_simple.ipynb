{
  "nbformat": 4,
  "nbformat_minor": 0,
  "metadata": {
    "colab": {
      "name": "LAB7_regresion_lineal_simple.ipynb",
      "provenance": [],
      "collapsed_sections": []
    },
    "kernelspec": {
      "name": "python3",
      "display_name": "Python 3"
    },
    "language_info": {
      "name": "python"
    }
  },
  "cells": [
    {
      "cell_type": "code",
      "metadata": {
        "id": "mIM3MHD6oWwH"
      },
      "source": [
        "import os\n",
        "import numpy as np\n",
        "from matplotlib import pyplot"
      ],
      "execution_count": 400,
      "outputs": []
    },
    {
      "cell_type": "code",
      "metadata": {
        "id": "8fqXopw1owNd"
      },
      "source": [
        "# Leer datos\n",
        "data = np.loadtxt('dataset.txt', delimiter=',')\n",
        "X, y = data[:, 0], data[:,1]\n",
        "m = y.size"
      ],
      "execution_count": 401,
      "outputs": []
    },
    {
      "cell_type": "code",
      "source": [
        "m\n",
        "# for i in X : print(i[0])"
      ],
      "metadata": {
        "colab": {
          "base_uri": "https://localhost:8080/"
        },
        "id": "B9lKpNqDOHoA",
        "outputId": "bba27172-b7b4-4acb-eb95-e05b46f51832"
      },
      "execution_count": 402,
      "outputs": [
        {
          "output_type": "execute_result",
          "data": {
            "text/plain": [
              "1111"
            ]
          },
          "metadata": {},
          "execution_count": 402
        }
      ]
    },
    {
      "cell_type": "code",
      "metadata": {
        "id": "Dh-iI6OTqU6-"
      },
      "source": [
        "def graficarDatos(x, y):\n",
        "  fig = pyplot.figure()\n",
        "  pyplot.plot(x, y, 'ro')\n",
        "  pyplot.xlabel('Tasa de Natalidad')\n",
        "  pyplot.ylabel('Tasa de Mortalidad')"
      ],
      "execution_count": 403,
      "outputs": []
    },
    {
      "cell_type": "code",
      "metadata": {
        "colab": {
          "base_uri": "https://localhost:8080/",
          "height": 279
        },
        "id": "XFuj2xYOq8Rk",
        "outputId": "d7cac8a3-eeca-4e74-90f2-f31faab39982"
      },
      "source": [
        "graficarDatos(X, y)"
      ],
      "execution_count": 404,
      "outputs": [
        {
          "output_type": "display_data",
          "data": {
            "text/plain": [
              "<Figure size 432x288 with 1 Axes>"
            ],
            "image/png": "[encoded data removed]"
          },
          "metadata": {
            "needs_background": "light"
          }
        }
      ]
    },
    {
      "cell_type": "code",
      "metadata": {
        "id": "jkVjRskgrJd2"
      },
      "source": [
        "# No olvidarse agregar unos a la matriz de x\n",
        "X = np.stack([np.ones(m), X], axis=1)"
      ],
      "execution_count": 405,
      "outputs": []
    },
    {
      "cell_type": "code",
      "source": [
        "X"
      ],
      "metadata": {
        "colab": {
          "base_uri": "https://localhost:8080/"
        },
        "id": "TTJCbtcoOw-c",
        "outputId": "345475dd-8dd5-4792-e327-40f9c416feeb"
      },
      "execution_count": 406,
      "outputs": [
        {
          "output_type": "execute_result",
          "data": {
            "text/plain": [
              "array([[  1.        ,  82.87578544],\n",
              "       [  1.        ,  68.68049223],\n",
              "       [  1.        , 171.50839521],\n",
              "       ...,\n",
              "       [  1.        , 161.25781916],\n",
              "       [  1.        , 129.45269572],\n",
              "       [  1.        , 105.7249364 ]])"
            ]
          },
          "metadata": {},
          "execution_count": 406
        }
      ]
    },
    {
      "cell_type": "code",
      "metadata": {
        "id": "iDWldqUVwYwK"
      },
      "source": [
        "def calcularCosto(X, y, theta):\n",
        "  m = y.size\n",
        "  J = 0\n",
        "  # h = np.dot(X, theta)\n",
        "  # print(h)\n",
        "  J = (1/(2 * m)) * np.sum(np.square(np.dot(X, theta) - y))\n",
        "  return J"
      ],
      "execution_count": 407,
      "outputs": []
    },
    {
      "cell_type": "code",
      "metadata": {
        "colab": {
          "base_uri": "https://localhost:8080/"
        },
        "id": "HqtBZGFex0uR",
        "outputId": "58fee5ce-e641-4abb-d872-c6069cabaf0a"
      },
      "source": [
        "theta=np.array([0.1, 2.8])\n",
        "JJ = calcularCosto(X, y, theta)\n",
        "print(f\"con theta:{ theta } se obtiene un costo de: {JJ}\")"
      ],
      "execution_count": 408,
      "outputs": [
        {
          "output_type": "stream",
          "name": "stdout",
          "text": [
            "con theta:[0.1 2.8] se obtiene un costo de: 28023.849421505678\n"
          ]
        }
      ]
    },
    {
      "cell_type": "code",
      "metadata": {
        "id": "ymTwiKnBzVk1"
      },
      "source": [
        "def calcularDescensoGradiente(X, y, theta, alpha, numero_iteraciones):\n",
        "  m = y.shape[0]\n",
        "  theta = theta.copy()\n",
        "  J_historico = []\n",
        "\n",
        "  for i in range(numero_iteraciones):\n",
        "    theta = theta - (alpha / m) * (np.dot(X, theta) - y).dot(X)\n",
        "    J_historico.append(calcularCosto(X, y, theta))\n",
        "\n",
        "  return theta, J_historico"
      ],
      "execution_count": 409,
      "outputs": []
    },
    {
      "cell_type": "code",
      "metadata": {
        "colab": {
          "base_uri": "https://localhost:8080/"
        },
        "id": "XVLJEATe0fiS",
        "outputId": "1750b18c-5f5a-4480-de5b-153d334bb15c"
      },
      "source": [
        "theta = np.zeros(2)\n",
        "# print(theta)\n",
        "num_ite = 81\n",
        "alpha = 0.003\n",
        "with np.errstate(divide=\"ignore\"):\n",
        "  theta, J_historico = calcularDescensoGradiente(X, y, theta, alpha, num_ite)\n",
        "print(f\"los valores de theta calculados son: { theta }\")\n",
        "print(f\"con un costo de: { J_historico[-1]} \")"
      ],
      "execution_count": 410,
      "outputs": [
        {
          "output_type": "stream",
          "name": "stdout",
          "text": [
            "los valores de theta calculados son: [1.15055272e+141 1.70210481e+143]\n",
            "con un costo de: 2.8751125161172544e+290 \n"
          ]
        }
      ]
    },
    {
      "cell_type": "code",
      "metadata": {
        "colab": {
          "base_uri": "https://localhost:8080/",
          "height": 307
        },
        "id": "ph6b7zgh1aD3",
        "outputId": "57763117-a91b-4b69-809d-4ab1cd4e945b"
      },
      "source": [
        "graficarDatos(X[:, 1], y)\n",
        "pyplot.plot(X[:,1], np.dot(X, theta), '-')\n",
        "pyplot.legend(['Datos de entrenamiento', 'regresion lineal'])"
      ],
      "execution_count": 411,
      "outputs": [
        {
          "output_type": "execute_result",
          "data": {
            "text/plain": [
              "<matplotlib.legend.Legend at 0x7fe57ad3f090>"
            ]
          },
          "metadata": {},
          "execution_count": 411
        },
        {
          "output_type": "display_data",
          "data": {
            "text/plain": [
              "<Figure size 432x288 with 1 Axes>"
            ],
            "image/png": "[encoded data removed]"
          },
          "metadata": {
            "needs_background": "light"
          }
        }
      ]
    },
    {
      "cell_type": "code",
      "metadata": {
        "colab": {
          "base_uri": "https://localhost:8080/"
        },
        "id": "OJxXluBO2T5q",
        "outputId": "3ca32abf-521c-4f28-a057-ef4336a872a8"
      },
      "source": [
        "y_pred = np.dot([1, 18.3], theta)\n",
        "print(y_pred)"
      ],
      "execution_count": 414,
      "outputs": [
        {
          "output_type": "stream",
          "name": "stdout",
          "text": [
            "1.7022198632252706e+145\n"
          ]
        }
      ]
    },
    {
      "cell_type": "code",
      "source": [
        "# import random\n",
        "# x_min, x_max = 30.0, 200.0 \n",
        "# y_min, y_max = 10.0, 300.0\n",
        "# archivo = open('datos.txt','w')\n",
        "# for i in range(2000):\n",
        "#   x = random.uniform(x_min, x_max)\n",
        "#   y = random.uniform(y_min, y_max)\n",
        "#   # archivo.write(x%','%y)\n",
        "#   # archivo.write()\n",
        "#   x2 = x/2\n",
        "#   y2 = y/2\n",
        "#   max = x if x>=y else y\n",
        "#   min = x if x<=y else y\n",
        "#   max2 = max/2\n",
        "#   if min >= max2:\n",
        "#     print(f'{x},{y}')\n"
      ],
      "metadata": {
        "id": "xt6Cl2HHEmq5"
      },
      "execution_count": 413,
      "outputs": []
    }
  ]
}