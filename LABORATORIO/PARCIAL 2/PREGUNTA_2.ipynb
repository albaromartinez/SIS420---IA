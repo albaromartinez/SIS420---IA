{
  "nbformat": 4,
  "nbformat_minor": 0,
  "metadata": {
    "colab": {
      "name": "PREGUNTA 2.ipynb",
      "provenance": [],
      "collapsed_sections": []
    },
    "kernelspec": {
      "name": "python3",
      "display_name": "Python 3"
    },
    "language_info": {
      "name": "python"
    }
  },
  "cells": [
    {
      "cell_type": "markdown",
      "source": [
        "# PREGUNTA 2"
      ],
      "metadata": {
        "id": "6uWg8rbHbXKO"
      }
    },
    {
      "cell_type": "markdown",
      "source": [
        "## IMPORTANDO LIBRERIAS"
      ],
      "metadata": {
        "id": "FYzyzkZIbZTM"
      }
    },
    {
      "cell_type": "code",
      "execution_count": 81,
      "metadata": {
        "colab": {
          "base_uri": "https://localhost:8080/"
        },
        "id": "giZIxB36aQQH",
        "outputId": "305dc8fc-8940-4ad6-c1dd-12ab35fda124"
      },
      "outputs": [
        {
          "output_type": "stream",
          "name": "stdout",
          "text": [
            "Drive already mounted at /content/drive; to attempt to forcibly remount, call drive.mount(\"/content/drive\", force_remount=True).\n"
          ]
        }
      ],
      "source": [
        "# utilizado para manejos de directorios y rutas\n",
        "import os\n",
        "# Computacion vectorial y cientifica para python\n",
        "import numpy as np\n",
        "# Librerias para graficación (trazado de gráficos)\n",
        "from matplotlib import pyplot\n",
        "from mpl_toolkits.mplot3d import Axes3D  # Necesario para graficar superficies 3D\n",
        "# llama a matplotlib a embeber graficas dentro de los cuadernillos\n",
        "%matplotlib inline\n",
        "\n",
        "\n",
        "from google.colab import drive\n",
        "drive.mount(\"/content/drive\")"
      ]
    },
    {
      "cell_type": "code",
      "source": [
        "# Cargar datos\n",
        "#data = np.loadtxt(os.path.join('Datasets', 'capacidad_adquisitiva.csv'), delimiter=';')\n",
        "#from numpy import genfromtxt\n",
        "#data = genfromtxt(os.path.join('Datasets', 'capacidad_adquisitiva.csv'), delimiter=';')\n",
        "data = np.loadtxt('/content/drive/MyDrive/SIS420-INTELIGENCIA_ARTIFICIAL/DATASETs/tiroides.csv', delimiter=\",\",skiprows=0)\n",
        "#print(data)\n",
        "X = data[:,:-1]\n",
        "y = data[:, 5]\n",
        "m = y.size\n",
        "print(X[0])\n",
        "print(y)\n",
        "m\n"
      ],
      "metadata": {
        "colab": {
          "base_uri": "https://localhost:8080/"
        },
        "id": "TGtBlzIlblzP",
        "outputId": "edb64dc4-ce5c-4044-edca-2805721ab246"
      },
      "execution_count": 82,
      "outputs": [
        {
          "output_type": "stream",
          "name": "stdout",
          "text": [
            "[107.   10.1   2.2   0.9   2.7]\n",
            "[1. 1. 1. 1. 1. 1. 1. 1. 1. 1. 1. 1. 1. 1. 1. 1. 1. 1. 1. 1. 1. 1. 1. 1.\n",
            " 1. 1. 1. 1. 1. 1. 1. 1. 1. 1. 1. 1. 1. 1. 1. 1. 1. 1. 1. 1. 1. 1. 1. 1.\n",
            " 1. 1. 1. 1. 1. 1. 1. 1. 1. 1. 1. 1. 1. 1. 1. 1. 1. 1. 1. 1. 1. 1. 1. 1.\n",
            " 1. 1. 1. 1. 1. 1. 1. 1. 1. 1. 1. 1. 1. 1. 1. 1. 1. 1. 1. 1. 1. 1. 1. 1.\n",
            " 1. 1. 1. 1. 1. 1. 1. 1. 1. 1. 1. 1. 1. 1. 1. 1. 1. 1. 1. 1. 1. 1. 1. 1.\n",
            " 1. 1. 1. 1. 1. 1. 1. 1. 1. 1. 1. 1. 1. 1. 1. 1. 1. 1. 1. 1. 1. 1. 1. 1.\n",
            " 1. 1. 1. 1. 1. 1. 2. 2. 2. 2. 2. 2. 2. 2. 2. 2. 2. 2. 2. 2. 2. 2. 2. 2.\n",
            " 2. 2. 2. 2. 2. 2. 2. 2. 2. 2. 2. 2. 2. 2. 2. 2. 2. 3. 3. 3. 3. 3. 3. 3.\n",
            " 3. 3. 3. 3. 3. 3. 3. 3. 3. 3. 3. 3. 3. 3. 3. 3. 3. 3. 3. 3. 3. 3. 3.]\n"
          ]
        },
        {
          "output_type": "execute_result",
          "data": {
            "text/plain": [
              "215"
            ]
          },
          "metadata": {},
          "execution_count": 82
        }
      ]
    },
    {
      "cell_type": "code",
      "source": [
        "def plotData(x, y):\n",
        "    #Grafica los puntos x e y en una figura nueva. \n",
        "    \n",
        "    fig = pyplot.figure()  # abre una nueva figura\n",
        "    \n",
        "    pyplot.plot(x, y, 'ro', ms=10, mec='k')\n",
        "    pyplot.ylabel('Normal, hiper, hipo')\n",
        "    pyplot.xlabel('resina, tiroxina, triyoditironina, hormona estimulante, tirotropina')\n",
        "plotData(X, y)"
      ],
      "metadata": {
        "colab": {
          "base_uri": "https://localhost:8080/",
          "height": 279
        },
        "id": "B2xrnjAz1dWT",
        "outputId": "f425677c-a59c-4e7a-ac9d-344ccf0795c4"
      },
      "execution_count": 83,
      "outputs": [
        {
          "output_type": "display_data",
          "data": {
            "text/plain": [
              "<Figure size 432x288 with 1 Axes>"
            ],
            "image/png": "[encoded data removed]"
          },
          "metadata": {
            "needs_background": "light"
          }
        }
      ]
    },
    {
      "cell_type": "markdown",
      "source": [
        "## NORMALIZACION\n",
        "los datos que tiene la regresion lineal hacen que se dificil converger y por ende se usa la normalizacion.\n",
        "Las X se ponen en un rango similar es decir 0<X<10  ![image.png](data:image/png;base64,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)"
      ],
      "metadata": {
        "id": "_41DmK6mqzoK"
      }
    },
    {
      "cell_type": "code",
      "source": [
        "def  featureNormalize(X):\n",
        "    X_norm = X.copy()\n",
        "    mu = np.zeros(X.shape[1])\n",
        "    sigma = np.zeros(X.shape[1])\n",
        "\n",
        "    mu = np.mean(X, axis = 0)\n",
        "    sigma = np.std(X, axis = 0)\n",
        "    X_norm = (X - mu) / sigma\n",
        "    \n",
        "    return X_norm, mu, sigma"
      ],
      "metadata": {
        "id": "LMZCPIAFqRId"
      },
      "execution_count": 84,
      "outputs": []
    },
    {
      "cell_type": "code",
      "source": [
        "# llama featureNormalize con los datos cargados\n",
        "X_norm, mu, sigma = featureNormalize(X)\n",
        "\n",
        "print(X)\n",
        "print('Media calculada:', mu)\n",
        "print('Desviación estandar calculada:', sigma)\n",
        "print(X_norm)"
      ],
      "metadata": {
        "colab": {
          "base_uri": "https://localhost:8080/"
        },
        "id": "sDluF62MqTg9",
        "outputId": "50ae411f-c53b-4af0-9289-e5b0d32d2dba"
      },
      "execution_count": 85,
      "outputs": [
        {
          "output_type": "stream",
          "name": "stdout",
          "text": [
            "[[107.   10.1   2.2   0.9   2.7]\n",
            " [113.    9.9   3.1   2.    5.9]\n",
            " [127.   12.9   2.4   1.4   0.6]\n",
            " ...\n",
            " [103.    5.1   1.4   1.2   5. ]\n",
            " [ 97.    4.7   1.1   2.1  12.6]\n",
            " [102.    5.3   1.4   1.3   6.7]]\n",
            "Media calculada: [109.59534884   9.80465116   2.05023256   2.88         4.19906977]\n",
            "Desviación estandar calculada: [13.11484076  4.6864254   1.41618138  6.10378609  8.05172806]\n",
            "[[-0.19789404  0.0630222   0.10575442 -0.32438883 -0.18617988]\n",
            " [ 0.25960294  0.02034575  0.74126623 -0.14417281  0.21125033]\n",
            " [ 1.32709588  0.6604925   0.24697927 -0.24247246 -0.44699346]\n",
            " ...\n",
            " [-0.50289203 -1.00388905 -0.45914497 -0.275239    0.09947309]\n",
            " [-0.960389   -1.08924195 -0.67098224 -0.12778954  1.04336984]\n",
            " [-0.57914152 -0.9612126  -0.45914497 -0.25885573  0.31060789]]\n"
          ]
        }
      ]
    },
    {
      "cell_type": "code",
      "source": [
        "# Añade el termino de interseccion a X\n",
        "# (Columna de unos para X0)\n",
        "X = np.concatenate([np.ones((m, 1)), X_norm], axis=1)\n",
        "X"
      ],
      "metadata": {
        "colab": {
          "base_uri": "https://localhost:8080/"
        },
        "id": "yG3pNsu6qXme",
        "outputId": "3f0f833e-18e1-4f3e-cfc7-4adad63d5e5e"
      },
      "execution_count": 86,
      "outputs": [
        {
          "output_type": "execute_result",
          "data": {
            "text/plain": [
              "array([[ 1.        , -0.19789404,  0.0630222 ,  0.10575442, -0.32438883,\n",
              "        -0.18617988],\n",
              "       [ 1.        ,  0.25960294,  0.02034575,  0.74126623, -0.14417281,\n",
              "         0.21125033],\n",
              "       [ 1.        ,  1.32709588,  0.6604925 ,  0.24697927, -0.24247246,\n",
              "        -0.44699346],\n",
              "       ...,\n",
              "       [ 1.        , -0.50289203, -1.00388905, -0.45914497, -0.275239  ,\n",
              "         0.09947309],\n",
              "       [ 1.        , -0.960389  , -1.08924195, -0.67098224, -0.12778954,\n",
              "         1.04336984],\n",
              "       [ 1.        , -0.57914152, -0.9612126 , -0.45914497, -0.25885573,\n",
              "         0.31060789]])"
            ]
          },
          "metadata": {},
          "execution_count": 86
        }
      ]
    },
    {
      "cell_type": "markdown",
      "source": [
        "## DECENSO POR EL GRADIENTE\n",
        "$$ J(\\theta) = \\frac{1}{2m}(X\\theta - \\vec{y})^T(X\\theta - \\vec{y}) $$"
      ],
      "metadata": {
        "id": "N7_csFy6q9Hl"
      }
    },
    {
      "cell_type": "code",
      "source": [
        "def computeCostMulti(X, y, theta):\n",
        "    # Inicializa algunos valores utiles\n",
        "    m = y.shape[0] # numero de ejemplos de entrenamiento\n",
        "    \n",
        "    J = 0\n",
        "    \n",
        "    h = np.dot(X, theta)\n",
        "    \n",
        "    J = (1/(2 * m)) * np.sum(np.square(np.dot(X, theta) - y))\n",
        "    \n",
        "    return J\n",
        "\n",
        "\n",
        "def gradientDescentMulti(X, y, theta, alpha, num_iters):\n",
        "    \n",
        "    # Inicializa algunos valores \n",
        "    m = y.shape[0] # numero de ejemplos de entrenamiento\n",
        "    \n",
        "    # realiza una copia de theta, el cual será acutalizada por el descenso por el gradiente\n",
        "    theta = theta.copy()\n",
        "    \n",
        "    J_history = []\n",
        "    \n",
        "    for i in range(num_iters):\n",
        "        theta = theta - (alpha / m) * (np.dot(X, theta) - y).dot(X)\n",
        "        J_history.append(computeCostMulti(X, y, theta))\n",
        "    \n",
        "    return theta, J_history"
      ],
      "metadata": {
        "id": "Ba8x5UVrq_Xi"
      },
      "execution_count": 87,
      "outputs": []
    },
    {
      "cell_type": "markdown",
      "source": [
        "## APRENDIZAJE"
      ],
      "metadata": {
        "id": "ViBlHEfarGrA"
      }
    },
    {
      "cell_type": "code",
      "source": [
        "def resultados(num):\n",
        "  valor ={\n",
        "      1: 'Normal',\n",
        "      2: 'Hiper',\n",
        "      3: 'Hipo',\n",
        "  } \n",
        "  return valor.get(num, 'Desconocido')"
      ],
      "metadata": {
        "id": "-j_qm9mQxey1"
      },
      "execution_count": 88,
      "outputs": []
    },
    {
      "cell_type": "code",
      "source": [
        "# Elegir algun valor para alpha (probar varias alternativas)\n",
        "alpha = 0.001 # alpha = 0.003\n",
        "num_iters = 10000\n",
        "\n",
        "# inicializa theta y ejecuta el descenso por el gradiente\n",
        "theta = np.zeros(6)\n",
        "theta, J_history = gradientDescentMulti(X, y, theta, alpha, num_iters)\n",
        "\n",
        "# Grafica la convergencia del costo\n",
        "pyplot.plot(np.arange(len(J_history)), J_history, lw=2)\n",
        "pyplot.xlabel('Numero de iteraciones')\n",
        "pyplot.ylabel('Costo J')\n",
        "\n",
        "# Muestra los resultados del descenso por el gradiente\n",
        "print('theta calculado por el descenso por el gradiente: {:s}'.format(str(theta)))\n",
        "\n",
        "# SE estima con los resultados\n",
        "\"\"\" \n",
        "2: prueba de absorción de resina T3. (Un porcentaje)\n",
        "3: tiroxina sérica total medida por el isótopo\n",
        "método de desplazamiento.\n",
        "4: Triyodotironina sérica total medida por radioinmuno\n",
        "ensayo.\n",
        "5: hormona estimulante de la tiroides basal (TSH) medida por\n",
        "ensayo radioinmunológico.\n",
        "6: Diferencia absoluta máxima del valor de TSH después de la inyección de\n",
        "200 microgramos de hormona liberadora de tirotropina en comparación\n",
        "al valor basal. \"\"\"\n",
        "X_array = [1, 139,16.4,3.8,1.1,-0.2]\n",
        "X_array[1:6] = (X_array[1:6] - mu) / sigma\n",
        "resultado = round(np.dot(X_array, theta))  \n",
        "print('prediccion: ', resultado)\n",
        "print('El resultado de la prueba de tiroides (usando el descenso por el gradiente) determina que la persona esta: ', resultados(resultado) )"
      ],
      "metadata": {
        "colab": {
          "base_uri": "https://localhost:8080/",
          "height": 331
        },
        "id": "RjYELpwcrF5f",
        "outputId": "4aca9292-a439-4ae8-99b9-6ccb4cc5531e"
      },
      "execution_count": 90,
      "outputs": [
        {
          "output_type": "stream",
          "name": "stdout",
          "text": [
            "theta calculado por el descenso por el gradiente: [1.44179533 0.02257431 0.02689929 0.19100649 0.32925261 0.26104103]\n",
            "prediccion:  2\n",
            "El resultado de la prueba de tiroides (usando el descenso por el gradiente) determina que la persona esta:  Hiper\n"
          ]
        },
        {
          "output_type": "display_data",
          "data": {
            "text/plain": [
              "<Figure size 432x288 with 1 Axes>"
            ],
            "image/png": "[encoded data removed]"
          },
          "metadata": {
            "needs_background": "light"
          }
        }
      ]
    },
    {
      "cell_type": "markdown",
      "source": [
        "## ECUACION NORMAL\n",
        "$$ \\theta = \\left( X^T X\\right)^{-1} X^T\\vec{y}$$"
      ],
      "metadata": {
        "id": "vIxSHfxIzIEC"
      }
    },
    {
      "cell_type": "code",
      "source": [
        "# Cargar datos\n",
        "data = np.loadtxt('/content/drive/MyDrive/SIS420-INTELIGENCIA_ARTIFICIAL/DATASETs/tiroides.csv', delimiter=\",\",skiprows=0)\n",
        "#print(data)\n",
        "X = data[:,:-1]\n",
        "y = data[:, 5]\n",
        "m = y.size\n",
        "X = np.concatenate([np.ones((m, 1)), X], axis=1)"
      ],
      "metadata": {
        "id": "IdoJhmANzLdY"
      },
      "execution_count": 91,
      "outputs": []
    },
    {
      "cell_type": "code",
      "source": [
        "def normalEqn(X, y):\n",
        "  \n",
        "    theta = np.zeros(X.shape[1])\n",
        "    \n",
        "    theta = np.dot(np.dot(np.linalg.inv(np.dot(X.T,X)),X.T),y)\n",
        "    \n",
        "    return theta"
      ],
      "metadata": {
        "id": "LwXa5VyKzres"
      },
      "execution_count": 92,
      "outputs": []
    },
    {
      "cell_type": "code",
      "source": [
        "# Calcula los parametros con la ecuación de la normal\n",
        "theta = normalEqn(X, y);\n",
        "\n",
        "# Muestra los resultados optenidos a partir de la aplicación de la ecuación de la normal\n",
        "print('Theta calculado a partir de la ecuación de la normal: {:s}'.format(str(theta)));\n",
        "\n",
        "# Estimar el resultado de las pruebas\n",
        "\n",
        "X_array = [1, 139,16.4,3.8,1.1,-0.2]\n",
        "tiroides = round(np.dot(X_array, theta) )\n",
        "print(tiroides)\n",
        "print('El resultado de las pruebas realizadas es de: ', resultados(tiroides))"
      ],
      "metadata": {
        "colab": {
          "base_uri": "https://localhost:8080/"
        },
        "id": "CDD_-OZNztn4",
        "outputId": "44211283-18c4-4a9d-d9dd-3a447dff2977"
      },
      "execution_count": 94,
      "outputs": [
        {
          "output_type": "stream",
          "name": "stdout",
          "text": [
            "Theta calculado a partir de la ecuación de la normal: [0.6242507  0.00177609 0.00532644 0.13640222 0.05392436 0.03233492]\n",
            "2\n",
            "El resultado de las pruebas realizadas es de:  Hiper\n"
          ]
        }
      ]
    }
  ]
}